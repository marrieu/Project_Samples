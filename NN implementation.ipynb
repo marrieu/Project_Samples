{
 "cells": [
  {
   "cell_type": "markdown",
   "metadata": {},
   "source": [
    "# Neural Network Simple Implementation"
   ]
  },
  {
   "cell_type": "code",
   "execution_count": 1,
   "metadata": {
    "collapsed": true
   },
   "outputs": [],
   "source": [
    "import numpy as np\n",
    "import matplotlib.pyplot as plt\n",
    "%matplotlib inline"
   ]
  },
  {
   "cell_type": "markdown",
   "metadata": {},
   "source": [
    "## Data"
   ]
  },
  {
   "cell_type": "code",
   "execution_count": 2,
   "metadata": {},
   "outputs": [
    {
     "data": {
      "text/plain": [
       "((4, 2), (4, 1))"
      ]
     },
     "execution_count": 2,
     "metadata": {},
     "output_type": "execute_result"
    }
   ],
   "source": [
    "X = np.stack([[-0.5,0.5,-0.5,0.5],[-0.5,-0.5,0.5,0.5]],axis=1)\n",
    "y = np.expand_dims(np.array([-0.5,0.5,0.5,-0.5]),-1)\n",
    "X.shape, y.shape"
   ]
  },
  {
   "cell_type": "code",
   "execution_count": 3,
   "metadata": {},
   "outputs": [
    {
     "name": "stdout",
     "output_type": "stream",
     "text": [
      "Number of features in data set: 2\n",
      "Number of examples in data set: 4\n",
      "Number of hidden layers neurons: 2\n",
      "Number of neurons at output layer: 1\n",
      "Number training iterations: 5000\n",
      "Learning rate: 0.1\n"
     ]
    }
   ],
   "source": [
    "input_size = X.shape[1] \n",
    "num_examples = X.shape[0] \n",
    "hiddenlayer_size = 2 \n",
    "output_size = y.shape[1] \n",
    "epoch=5000 \n",
    "lr=0.1\n",
    "print(\"Number of features in data set: {}\".format(input_size))\n",
    "print(\"Number of examples in data set: {}\".format(num_examples))\n",
    "print(\"Number of hidden layers neurons: {}\".format(hiddenlayer_size))\n",
    "print(\"Number of neurons at output layer: {}\".format(output_size))\n",
    "print(\"Number training iterations: {}\".format(epoch))\n",
    "print(\"Learning rate: {}\".format(lr))"
   ]
  },
  {
   "cell_type": "code",
   "execution_count": 4,
   "metadata": {
    "collapsed": true
   },
   "outputs": [],
   "source": [
    "def initialize_parameters(layer_dims=[X.shape[1],hiddenlayer_size,output_size]):\n",
    "    \"\"\"\n",
    "    Arguments:\n",
    "    layer_dims -- python array (list) containing the dimensions of each layer in our network\n",
    "    \n",
    "    Returns:\n",
    "    parameters -- python dictionary containing your parameters \"W1\", \"b1\", ..., \"WL\", \"bL\":\n",
    "                    Wl -- weight matrix of shape (layer_dims[l-1],layer_dims[l])\n",
    "                    bl -- bias vector of shape (1, layer_dims[l])\n",
    "    \"\"\"\n",
    "    \n",
    "    np.random.seed(4)\n",
    "    parameters = {}\n",
    "    L = len(layer_dims) # number of layers in the network\n",
    "\n",
    "    for l in range(1, L):\n",
    "      \n",
    "        parameters['W' + str(l)] = np.random.random([layer_dims[l-1],layer_dims[l]])-0.5\n",
    "        parameters['b' + str(l)] = np.random.random((1,layer_dims[l]))-0.5\n",
    "\n",
    "        \n",
    "    return parameters"
   ]
  },
  {
   "cell_type": "markdown",
   "metadata": {},
   "source": [
    "Testing function"
   ]
  },
  {
   "cell_type": "code",
   "execution_count": 5,
   "metadata": {},
   "outputs": [
    {
     "name": "stdout",
     "output_type": "stream",
     "text": [
      "W1 = [[ 0.46702984  0.04723225]\n",
      " [ 0.47268436  0.21481599]]\n",
      "b1 = [[ 0.19772882 -0.2839105 ]]\n",
      "W2 = [[ 0.47627445]\n",
      " [-0.49376974]]\n",
      "b2 = [[-0.24701764]]\n"
     ]
    }
   ],
   "source": [
    "parameters = initialize_parameters()\n",
    "print(\"W1 = \" + str(parameters[\"W1\"]))\n",
    "print(\"b1 = \" + str(parameters[\"b1\"]))\n",
    "print(\"W2 = \" + str(parameters[\"W2\"]))\n",
    "print(\"b2 = \" + str(parameters[\"b2\"]))"
   ]
  },
  {
   "cell_type": "code",
   "execution_count": 6,
   "metadata": {
    "collapsed": true
   },
   "outputs": [],
   "source": [
    "# Mean Square erro function\n",
    "def mse(y,pred):\n",
    "    return np.sum((y-pred)**2)/(num_examples)"
   ]
  },
  {
   "cell_type": "code",
   "execution_count": 7,
   "metadata": {
    "collapsed": true
   },
   "outputs": [],
   "source": [
    "# Helper function to evaluate the total loss on the dataset\n",
    "def calculate_loss(model):\n",
    "    W1, b1, W2, b2 = model['W1'], model['b1'], model['W2'], model['b2']\n",
    "    # Forward propagation to calculate our predictions\n",
    "    z1 = np.dot(X,W1)+b1\n",
    "    a1 = np.tanh(z1)\n",
    "    z2 = np.dot(a1,W2)+b2\n",
    "    # Calculating the loss\n",
    "    data_loss = mse(y,z2)\n",
    "\n",
    "    return data_loss"
   ]
  },
  {
   "cell_type": "code",
   "execution_count": 8,
   "metadata": {
    "collapsed": true
   },
   "outputs": [],
   "source": [
    "#def tanh(x):\n",
    " #   return 2/(1+np.exp(-2*x))-1"
   ]
  },
  {
   "cell_type": "code",
   "execution_count": 9,
   "metadata": {
    "collapsed": true
   },
   "outputs": [],
   "source": [
    "def build_model(nn_hdim, max_iter=1000, converge=0.05, lr=lr, beta=None):\n",
    "    \"\"\"\n",
    "     This function learns parameters for the neural network with 1 hidden layer and returns the model.\n",
    "     - nn_hdim: Number of nodes in the hidden layer\n",
    "     - max_iter: Number of maximum iteration\n",
    "     - converge: Convergence is reached when your average MSE for the whole dataset is less than 'converge'\n",
    "     - lr: learning rate\n",
    "     - \n",
    "    \"\"\"\n",
    "     \n",
    "    # Initialize the parameters to random values. We need to learn these.\n",
    "    parameters = initialize_parameters(layer_dims=[X.shape[1],nn_hdim,output_size])\n",
    "    W1 = parameters['W1']\n",
    "    b1 = parameters['b1']\n",
    "    W2 = parameters['W2']\n",
    "    b2 = parameters['b2']\n",
    "     \n",
    "    # This is what we return at the end\n",
    "    model = { 'W1': W1, 'b1': b1, 'W2': W2, 'b2': b2}\n",
    "    \n",
    "    #initialize\n",
    "    i = 0\n",
    "    costs =[]\n",
    "    if beta != None:\n",
    "        VdW1 = np.zeros((W1.shape))\n",
    "        Vdb1 = np.zeros((b1.shape))\n",
    "        VdW2 = np.zeros((W2.shape))\n",
    "        Vdb2 = np.zeros((b2.shape))\n",
    "        \n",
    "    # Gradient descent. \n",
    "    while calculate_loss(model) > converge and i < max_iter:\n",
    "        i += 1\n",
    " \n",
    "        # Forward propagation\n",
    "        z1 = np.dot(X,W1)+b1\n",
    "        a1 = np.tanh(z1)\n",
    "        z2 = np.dot(a1,W2)+b2\n",
    "\n",
    "        # Backpropagation\n",
    "        dz2 = 2*(z2-y)\n",
    "        dW2 = np.dot(a1.T,dz2)\n",
    "        db2 = np.sum(dz2, axis=0, keepdims=True)\n",
    "        # tanh' = 1-(tanh)**2\n",
    "        dz1 = np.dot(dz2,W2.T)*(1 - (np.tanh(z1))**2)\n",
    "        dW1 = np.dot(X.T, dz1)\n",
    "        db1 = np.sum(dz1, axis=0)\n",
    " \n",
    " \n",
    "        # Gradient descent parameter update\n",
    "        if beta == None:\n",
    "            W1 += -lr * dW1\n",
    "            b1 += -lr * db1\n",
    "            W2 += -lr * dW2\n",
    "            b2 += -lr * db2\n",
    "            \n",
    "        else:\n",
    "            VdW1 = beta*VdW1+(1-beta)*dW1\n",
    "            Vdb1 = beta*Vdb1+(1-beta)*db1\n",
    "            VdW2 = beta*VdW2+(1-beta)*dW2\n",
    "            Vdb2 = beta*Vdb2+(1-beta)*db2\n",
    "            \n",
    "            W1 += -lr * VdW1\n",
    "            b1 += -lr * Vdb1\n",
    "            W2 += -lr * VdW2\n",
    "            b2 += -lr * Vdb2\n",
    "            \n",
    "        #updates = [(param, param-eta*grad +momentum_constant*vel) for param, grad, vel in zip(self.params, grads, velocities)]  \n",
    "         \n",
    "        # Assign new parameters to the model\n",
    "        model = { 'W1': W1, 'b1': b1, 'W2': W2, 'b2': b2}\n",
    "         \n",
    "        print(\"Loss after iteration %i: %f\" %(i, calculate_loss(model)))\n",
    "        costs.append(calculate_loss(model))\n",
    "        # Optionally print the loss.\n",
    "        # This is expensive because it uses the whole dataset, so we don't want to do it too often.\n",
    "        #if print_loss and i % 1000 == 0:\n",
    "         # print \"Loss after iteration %i: %f\" %(i, calculate_loss(model))\n",
    "    plt.plot(np.squeeze(costs))\n",
    "    plt.ylabel('cost')\n",
    "    plt.xlabel('iterations (per tens)')\n",
    "    plt.title(\"Learning rate =\" + str(lr))\n",
    "    plt.show()\n",
    "     \n",
    "    return model\n",
    "\n"
   ]
  },
  {
   "cell_type": "markdown",
   "metadata": {},
   "source": [
    "## NN with 2 hidden units"
   ]
  },
  {
   "cell_type": "code",
   "execution_count": 10,
   "metadata": {},
   "outputs": [
    {
     "name": "stdout",
     "output_type": "stream",
     "text": [
      "Loss after iteration 1: 0.248288\n",
      "Loss after iteration 2: 0.245790\n",
      "Loss after iteration 3: 0.243766\n",
      "Loss after iteration 4: 0.242040\n",
      "Loss after iteration 5: 0.240517\n",
      "Loss after iteration 6: 0.239128\n",
      "Loss after iteration 7: 0.237824\n",
      "Loss after iteration 8: 0.236565\n",
      "Loss after iteration 9: 0.235321\n",
      "Loss after iteration 10: 0.234067\n",
      "Loss after iteration 11: 0.232783\n",
      "Loss after iteration 12: 0.231450\n",
      "Loss after iteration 13: 0.230053\n",
      "Loss after iteration 14: 0.228576\n",
      "Loss after iteration 15: 0.227006\n",
      "Loss after iteration 16: 0.225328\n",
      "Loss after iteration 17: 0.223531\n",
      "Loss after iteration 18: 0.221600\n",
      "Loss after iteration 19: 0.219522\n",
      "Loss after iteration 20: 0.217284\n",
      "Loss after iteration 21: 0.214873\n",
      "Loss after iteration 22: 0.212275\n",
      "Loss after iteration 23: 0.209474\n",
      "Loss after iteration 24: 0.206458\n",
      "Loss after iteration 25: 0.203211\n",
      "Loss after iteration 26: 0.199721\n",
      "Loss after iteration 27: 0.195973\n",
      "Loss after iteration 28: 0.191954\n",
      "Loss after iteration 29: 0.187654\n",
      "Loss after iteration 30: 0.183063\n",
      "Loss after iteration 31: 0.178173\n",
      "Loss after iteration 32: 0.172980\n",
      "Loss after iteration 33: 0.167483\n",
      "Loss after iteration 34: 0.161685\n",
      "Loss after iteration 35: 0.155594\n",
      "Loss after iteration 36: 0.149224\n",
      "Loss after iteration 37: 0.142595\n",
      "Loss after iteration 38: 0.135733\n",
      "Loss after iteration 39: 0.128670\n",
      "Loss after iteration 40: 0.121446\n",
      "Loss after iteration 41: 0.114106\n",
      "Loss after iteration 42: 0.106700\n",
      "Loss after iteration 43: 0.099283\n",
      "Loss after iteration 44: 0.091910\n",
      "Loss after iteration 45: 0.084641\n",
      "Loss after iteration 46: 0.077532\n",
      "Loss after iteration 47: 0.070637\n",
      "Loss after iteration 48: 0.064007\n",
      "Loss after iteration 49: 0.057685\n",
      "Loss after iteration 50: 0.051708\n",
      "Loss after iteration 51: 0.046105\n"
     ]
    },
    {
     "data": {
      "image/png": "[encoded data removed]",
      "text/plain": [
       "<matplotlib.figure.Figure at 0x10b3d1048>"
      ]
     },
     "metadata": {},
     "output_type": "display_data"
    }
   ],
   "source": [
    "param = build_model(2)"
   ]
  },
  {
   "cell_type": "markdown",
   "metadata": {},
   "source": [
    "## NN with 4 hidden units"
   ]
  },
  {
   "cell_type": "code",
   "execution_count": 11,
   "metadata": {},
   "outputs": [
    {
     "name": "stdout",
     "output_type": "stream",
     "text": [
      "Loss after iteration 1: 0.280649\n",
      "Loss after iteration 2: 0.256530\n",
      "Loss after iteration 3: 0.255605\n",
      "Loss after iteration 4: 0.254974\n",
      "Loss after iteration 5: 0.254458\n",
      "Loss after iteration 6: 0.254028\n",
      "Loss after iteration 7: 0.253662\n",
      "Loss after iteration 8: 0.253344\n",
      "Loss after iteration 9: 0.253064\n",
      "Loss after iteration 10: 0.252814\n",
      "Loss after iteration 11: 0.252588\n",
      "Loss after iteration 12: 0.252381\n",
      "Loss after iteration 13: 0.252190\n",
      "Loss after iteration 14: 0.252013\n",
      "Loss after iteration 15: 0.251847\n",
      "Loss after iteration 16: 0.251691\n",
      "Loss after iteration 17: 0.251543\n",
      "Loss after iteration 18: 0.251402\n",
      "Loss after iteration 19: 0.251268\n",
      "Loss after iteration 20: 0.251139\n",
      "Loss after iteration 21: 0.251015\n",
      "Loss after iteration 22: 0.250895\n",
      "Loss after iteration 23: 0.250778\n",
      "Loss after iteration 24: 0.250665\n",
      "Loss after iteration 25: 0.250554\n",
      "Loss after iteration 26: 0.250446\n",
      "Loss after iteration 27: 0.250340\n",
      "Loss after iteration 28: 0.250235\n",
      "Loss after iteration 29: 0.250131\n",
      "Loss after iteration 30: 0.250029\n",
      "Loss after iteration 31: 0.249927\n",
      "Loss after iteration 32: 0.249825\n",
      "Loss after iteration 33: 0.249723\n",
      "Loss after iteration 34: 0.249621\n",
      "Loss after iteration 35: 0.249518\n",
      "Loss after iteration 36: 0.249414\n",
      "Loss after iteration 37: 0.249309\n",
      "Loss after iteration 38: 0.249202\n",
      "Loss after iteration 39: 0.249094\n",
      "Loss after iteration 40: 0.248983\n",
      "Loss after iteration 41: 0.248870\n",
      "Loss after iteration 42: 0.248754\n",
      "Loss after iteration 43: 0.248635\n",
      "Loss after iteration 44: 0.248512\n",
      "Loss after iteration 45: 0.248386\n",
      "Loss after iteration 46: 0.248254\n",
      "Loss after iteration 47: 0.248118\n",
      "Loss after iteration 48: 0.247977\n",
      "Loss after iteration 49: 0.247830\n",
      "Loss after iteration 50: 0.247676\n",
      "Loss after iteration 51: 0.247515\n",
      "Loss after iteration 52: 0.247348\n",
      "Loss after iteration 53: 0.247171\n",
      "Loss after iteration 54: 0.246987\n",
      "Loss after iteration 55: 0.246792\n",
      "Loss after iteration 56: 0.246587\n",
      "Loss after iteration 57: 0.246371\n",
      "Loss after iteration 58: 0.246143\n",
      "Loss after iteration 59: 0.245902\n",
      "Loss after iteration 60: 0.245647\n",
      "Loss after iteration 61: 0.245377\n",
      "Loss after iteration 62: 0.245090\n",
      "Loss after iteration 63: 0.244786\n",
      "Loss after iteration 64: 0.244462\n",
      "Loss after iteration 65: 0.244117\n",
      "Loss after iteration 66: 0.243751\n",
      "Loss after iteration 67: 0.243360\n",
      "Loss after iteration 68: 0.242942\n",
      "Loss after iteration 69: 0.242497\n",
      "Loss after iteration 70: 0.242021\n",
      "Loss after iteration 71: 0.241511\n",
      "Loss after iteration 72: 0.240966\n",
      "Loss after iteration 73: 0.240383\n",
      "Loss after iteration 74: 0.239757\n",
      "Loss after iteration 75: 0.239086\n",
      "Loss after iteration 76: 0.238366\n",
      "Loss after iteration 77: 0.237593\n",
      "Loss after iteration 78: 0.236763\n",
      "Loss after iteration 79: 0.235870\n",
      "Loss after iteration 80: 0.234910\n",
      "Loss after iteration 81: 0.233878\n",
      "Loss after iteration 82: 0.232768\n",
      "Loss after iteration 83: 0.231572\n",
      "Loss after iteration 84: 0.230285\n",
      "Loss after iteration 85: 0.228899\n",
      "Loss after iteration 86: 0.227407\n",
      "Loss after iteration 87: 0.225801\n",
      "Loss after iteration 88: 0.224071\n",
      "Loss after iteration 89: 0.222209\n",
      "Loss after iteration 90: 0.220205\n",
      "Loss after iteration 91: 0.218049\n",
      "Loss after iteration 92: 0.215731\n",
      "Loss after iteration 93: 0.213241\n",
      "Loss after iteration 94: 0.210567\n",
      "Loss after iteration 95: 0.207698\n",
      "Loss after iteration 96: 0.204625\n",
      "Loss after iteration 97: 0.201337\n",
      "Loss after iteration 98: 0.197823\n",
      "Loss after iteration 99: 0.194074\n",
      "Loss after iteration 100: 0.190082\n",
      "Loss after iteration 101: 0.185841\n",
      "Loss after iteration 102: 0.181344\n",
      "Loss after iteration 103: 0.176589\n",
      "Loss after iteration 104: 0.171575\n",
      "Loss after iteration 105: 0.166303\n",
      "Loss after iteration 106: 0.160780\n",
      "Loss after iteration 107: 0.155014\n",
      "Loss after iteration 108: 0.149018\n",
      "Loss after iteration 109: 0.142809\n",
      "Loss after iteration 110: 0.136408\n",
      "Loss after iteration 111: 0.129842\n",
      "Loss after iteration 112: 0.123139\n",
      "Loss after iteration 113: 0.116335\n",
      "Loss after iteration 114: 0.109468\n",
      "Loss after iteration 115: 0.102577\n",
      "Loss after iteration 116: 0.095707\n",
      "Loss after iteration 117: 0.088900\n",
      "Loss after iteration 118: 0.082202\n",
      "Loss after iteration 119: 0.075656\n",
      "Loss after iteration 120: 0.069304\n",
      "Loss after iteration 121: 0.063183\n",
      "Loss after iteration 122: 0.057327\n",
      "Loss after iteration 123: 0.051765\n",
      "Loss after iteration 124: 0.046521\n"
     ]
    },
    {
     "data": {
      "image/png": "[encoded data removed]",
      "text/plain": [
       "<matplotlib.figure.Figure at 0x10e1c7780>"
      ]
     },
     "metadata": {},
     "output_type": "display_data"
    }
   ],
   "source": [
    "param = build_model(4)"
   ]
  },
  {
   "cell_type": "markdown",
   "metadata": {},
   "source": [
    "## NN with 6 hidden units"
   ]
  },
  {
   "cell_type": "code",
   "execution_count": 12,
   "metadata": {},
   "outputs": [
    {
     "name": "stdout",
     "output_type": "stream",
     "text": [
      "Loss after iteration 1: 0.373779\n",
      "Loss after iteration 2: 0.317284\n",
      "Loss after iteration 3: 0.284679\n",
      "Loss after iteration 4: 0.270212\n",
      "Loss after iteration 5: 0.263184\n",
      "Loss after iteration 6: 0.259595\n",
      "Loss after iteration 7: 0.257412\n",
      "Loss after iteration 8: 0.255888\n",
      "Loss after iteration 9: 0.254695\n",
      "Loss after iteration 10: 0.253692\n",
      "Loss after iteration 11: 0.252805\n",
      "Loss after iteration 12: 0.251994\n",
      "Loss after iteration 13: 0.251233\n",
      "Loss after iteration 14: 0.250506\n",
      "Loss after iteration 15: 0.249799\n",
      "Loss after iteration 16: 0.249103\n",
      "Loss after iteration 17: 0.248412\n",
      "Loss after iteration 18: 0.247718\n",
      "Loss after iteration 19: 0.247018\n",
      "Loss after iteration 20: 0.246305\n",
      "Loss after iteration 21: 0.245576\n",
      "Loss after iteration 22: 0.244827\n",
      "Loss after iteration 23: 0.244052\n",
      "Loss after iteration 24: 0.243249\n",
      "Loss after iteration 25: 0.242412\n",
      "Loss after iteration 26: 0.241537\n",
      "Loss after iteration 27: 0.240620\n",
      "Loss after iteration 28: 0.239655\n",
      "Loss after iteration 29: 0.238638\n",
      "Loss after iteration 30: 0.237562\n",
      "Loss after iteration 31: 0.236421\n",
      "Loss after iteration 32: 0.235210\n",
      "Loss after iteration 33: 0.233921\n",
      "Loss after iteration 34: 0.232546\n",
      "Loss after iteration 35: 0.231079\n",
      "Loss after iteration 36: 0.229510\n",
      "Loss after iteration 37: 0.227831\n",
      "Loss after iteration 38: 0.226032\n",
      "Loss after iteration 39: 0.224103\n",
      "Loss after iteration 40: 0.222033\n",
      "Loss after iteration 41: 0.219809\n",
      "Loss after iteration 42: 0.217421\n",
      "Loss after iteration 43: 0.214856\n",
      "Loss after iteration 44: 0.212100\n",
      "Loss after iteration 45: 0.209140\n",
      "Loss after iteration 46: 0.205962\n",
      "Loss after iteration 47: 0.202552\n",
      "Loss after iteration 48: 0.198896\n",
      "Loss after iteration 49: 0.194982\n",
      "Loss after iteration 50: 0.190796\n",
      "Loss after iteration 51: 0.186328\n",
      "Loss after iteration 52: 0.181568\n",
      "Loss after iteration 53: 0.176510\n",
      "Loss after iteration 54: 0.171148\n",
      "Loss after iteration 55: 0.165482\n",
      "Loss after iteration 56: 0.159516\n",
      "Loss after iteration 57: 0.153259\n",
      "Loss after iteration 58: 0.146725\n",
      "Loss after iteration 59: 0.139935\n",
      "Loss after iteration 60: 0.132916\n",
      "Loss after iteration 61: 0.125701\n",
      "Loss after iteration 62: 0.118331\n",
      "Loss after iteration 63: 0.110852\n",
      "Loss after iteration 64: 0.103317\n",
      "Loss after iteration 65: 0.095782\n",
      "Loss after iteration 66: 0.088305\n",
      "Loss after iteration 67: 0.080948\n",
      "Loss after iteration 68: 0.073770\n",
      "Loss after iteration 69: 0.066827\n",
      "Loss after iteration 70: 0.060171\n",
      "Loss after iteration 71: 0.053849\n",
      "Loss after iteration 72: 0.047899\n"
     ]
    },
    {
     "data": {
      "image/png": "[encoded data removed]",
      "text/plain": [
       "<matplotlib.figure.Figure at 0x10e1ec358>"
      ]
     },
     "metadata": {},
     "output_type": "display_data"
    }
   ],
   "source": [
    "param = build_model(6)"
   ]
  },
  {
   "cell_type": "markdown",
   "metadata": {
    "collapsed": true
   },
   "source": [
    "# Momentum "
   ]
  },
  {
   "cell_type": "markdown",
   "metadata": {},
   "source": [
    "## NN with momentum and 2 hidden units"
   ]
  },
  {
   "cell_type": "code",
   "execution_count": 13,
   "metadata": {},
   "outputs": [
    {
     "name": "stdout",
     "output_type": "stream",
     "text": [
      "Loss after iteration 1: 0.248550\n",
      "Loss after iteration 2: 0.246033\n",
      "Loss after iteration 3: 0.243944\n",
      "Loss after iteration 4: 0.242188\n",
      "Loss after iteration 5: 0.240649\n",
      "Loss after iteration 6: 0.239256\n",
      "Loss after iteration 7: 0.237954\n",
      "Loss after iteration 8: 0.236702\n",
      "Loss after iteration 9: 0.235470\n",
      "Loss after iteration 10: 0.234232\n",
      "Loss after iteration 11: 0.232965\n",
      "Loss after iteration 12: 0.231653\n",
      "Loss after iteration 13: 0.230278\n",
      "Loss after iteration 14: 0.228827\n",
      "Loss after iteration 15: 0.227284\n",
      "Loss after iteration 16: 0.225637\n",
      "Loss after iteration 17: 0.223873\n",
      "Loss after iteration 18: 0.221979\n",
      "Loss after iteration 19: 0.219941\n",
      "Loss after iteration 20: 0.217748\n",
      "Loss after iteration 21: 0.215384\n",
      "Loss after iteration 22: 0.212838\n",
      "Loss after iteration 23: 0.210094\n",
      "Loss after iteration 24: 0.207139\n",
      "Loss after iteration 25: 0.203959\n",
      "Loss after iteration 26: 0.200539\n",
      "Loss after iteration 27: 0.196867\n",
      "Loss after iteration 28: 0.192929\n",
      "Loss after iteration 29: 0.188714\n",
      "Loss after iteration 30: 0.184212\n",
      "Loss after iteration 31: 0.179414\n",
      "Loss after iteration 32: 0.174316\n",
      "Loss after iteration 33: 0.168914\n",
      "Loss after iteration 34: 0.163211\n",
      "Loss after iteration 35: 0.157214\n",
      "Loss after iteration 36: 0.150934\n",
      "Loss after iteration 37: 0.144388\n",
      "Loss after iteration 38: 0.137602\n",
      "Loss after iteration 39: 0.130604\n",
      "Loss after iteration 40: 0.123432\n",
      "Loss after iteration 41: 0.116129\n",
      "Loss after iteration 42: 0.108743\n",
      "Loss after iteration 43: 0.101328\n",
      "Loss after iteration 44: 0.093938\n",
      "Loss after iteration 45: 0.086633\n",
      "Loss after iteration 46: 0.079469\n",
      "Loss after iteration 47: 0.072502\n",
      "Loss after iteration 48: 0.065783\n",
      "Loss after iteration 49: 0.059360\n",
      "Loss after iteration 50: 0.053271\n",
      "Loss after iteration 51: 0.047547\n"
     ]
    },
    {
     "data": {
      "image/png": "[encoded data removed]",
      "text/plain": [
       "<matplotlib.figure.Figure at 0x112ea8048>"
      ]
     },
     "metadata": {},
     "output_type": "display_data"
    }
   ],
   "source": [
    "param = build_model(2, beta=0.1)"
   ]
  },
  {
   "cell_type": "markdown",
   "metadata": {},
   "source": [
    "## NN with momentum and 4 hidden units"
   ]
  },
  {
   "cell_type": "code",
   "execution_count": 14,
   "metadata": {},
   "outputs": [
    {
     "name": "stdout",
     "output_type": "stream",
     "text": [
      "Loss after iteration 1: 0.263418\n",
      "Loss after iteration 2: 0.262182\n",
      "Loss after iteration 3: 0.255713\n",
      "Loss after iteration 4: 0.255091\n",
      "Loss after iteration 5: 0.254517\n",
      "Loss after iteration 6: 0.254076\n",
      "Loss after iteration 7: 0.253703\n",
      "Loss after iteration 8: 0.253381\n",
      "Loss after iteration 9: 0.253098\n",
      "Loss after iteration 10: 0.252845\n",
      "Loss after iteration 11: 0.252616\n",
      "Loss after iteration 12: 0.252407\n",
      "Loss after iteration 13: 0.252214\n",
      "Loss after iteration 14: 0.252035\n",
      "Loss after iteration 15: 0.251868\n",
      "Loss after iteration 16: 0.251710\n",
      "Loss after iteration 17: 0.251561\n",
      "Loss after iteration 18: 0.251418\n",
      "Loss after iteration 19: 0.251283\n",
      "Loss after iteration 20: 0.251153\n",
      "Loss after iteration 21: 0.251027\n",
      "Loss after iteration 22: 0.250906\n",
      "Loss after iteration 23: 0.250789\n",
      "Loss after iteration 24: 0.250675\n",
      "Loss after iteration 25: 0.250563\n",
      "Loss after iteration 26: 0.250454\n",
      "Loss after iteration 27: 0.250347\n",
      "Loss after iteration 28: 0.250242\n",
      "Loss after iteration 29: 0.250138\n",
      "Loss after iteration 30: 0.250034\n",
      "Loss after iteration 31: 0.249932\n",
      "Loss after iteration 32: 0.249830\n",
      "Loss after iteration 33: 0.249727\n",
      "Loss after iteration 34: 0.249625\n",
      "Loss after iteration 35: 0.249522\n",
      "Loss after iteration 36: 0.249418\n",
      "Loss after iteration 37: 0.249313\n",
      "Loss after iteration 38: 0.249206\n",
      "Loss after iteration 39: 0.249098\n",
      "Loss after iteration 40: 0.248987\n",
      "Loss after iteration 41: 0.248874\n",
      "Loss after iteration 42: 0.248759\n",
      "Loss after iteration 43: 0.248640\n",
      "Loss after iteration 44: 0.248517\n",
      "Loss after iteration 45: 0.248391\n",
      "Loss after iteration 46: 0.248260\n",
      "Loss after iteration 47: 0.248125\n",
      "Loss after iteration 48: 0.247984\n",
      "Loss after iteration 49: 0.247838\n",
      "Loss after iteration 50: 0.247685\n",
      "Loss after iteration 51: 0.247526\n",
      "Loss after iteration 52: 0.247359\n",
      "Loss after iteration 53: 0.247184\n",
      "Loss after iteration 54: 0.247001\n",
      "Loss after iteration 55: 0.246808\n",
      "Loss after iteration 56: 0.246606\n",
      "Loss after iteration 57: 0.246392\n",
      "Loss after iteration 58: 0.246166\n",
      "Loss after iteration 59: 0.245928\n",
      "Loss after iteration 60: 0.245676\n",
      "Loss after iteration 61: 0.245408\n",
      "Loss after iteration 62: 0.245125\n",
      "Loss after iteration 63: 0.244825\n",
      "Loss after iteration 64: 0.244505\n",
      "Loss after iteration 65: 0.244165\n",
      "Loss after iteration 66: 0.243804\n",
      "Loss after iteration 67: 0.243418\n",
      "Loss after iteration 68: 0.243007\n",
      "Loss after iteration 69: 0.242569\n",
      "Loss after iteration 70: 0.242100\n",
      "Loss after iteration 71: 0.241599\n",
      "Loss after iteration 72: 0.241063\n",
      "Loss after iteration 73: 0.240490\n",
      "Loss after iteration 74: 0.239875\n",
      "Loss after iteration 75: 0.239216\n",
      "Loss after iteration 76: 0.238510\n",
      "Loss after iteration 77: 0.237752\n",
      "Loss after iteration 78: 0.236937\n",
      "Loss after iteration 79: 0.236063\n",
      "Loss after iteration 80: 0.235123\n",
      "Loss after iteration 81: 0.234112\n",
      "Loss after iteration 82: 0.233025\n",
      "Loss after iteration 83: 0.231855\n",
      "Loss after iteration 84: 0.230596\n",
      "Loss after iteration 85: 0.229242\n",
      "Loss after iteration 86: 0.227783\n",
      "Loss after iteration 87: 0.226214\n",
      "Loss after iteration 88: 0.224524\n",
      "Loss after iteration 89: 0.222706\n",
      "Loss after iteration 90: 0.220750\n",
      "Loss after iteration 91: 0.218646\n",
      "Loss after iteration 92: 0.216385\n",
      "Loss after iteration 93: 0.213955\n",
      "Loss after iteration 94: 0.211347\n",
      "Loss after iteration 95: 0.208549\n",
      "Loss after iteration 96: 0.205551\n",
      "Loss after iteration 97: 0.202343\n",
      "Loss after iteration 98: 0.198915\n",
      "Loss after iteration 99: 0.195256\n",
      "Loss after iteration 100: 0.191360\n",
      "Loss after iteration 101: 0.187218\n",
      "Loss after iteration 102: 0.182824\n",
      "Loss after iteration 103: 0.178175\n",
      "Loss after iteration 104: 0.173269\n",
      "Loss after iteration 105: 0.168106\n",
      "Loss after iteration 106: 0.162692\n",
      "Loss after iteration 107: 0.157033\n",
      "Loss after iteration 108: 0.151140\n",
      "Loss after iteration 109: 0.145028\n",
      "Loss after iteration 110: 0.138718\n",
      "Loss after iteration 111: 0.132232\n",
      "Loss after iteration 112: 0.125600\n",
      "Loss after iteration 113: 0.118851\n",
      "Loss after iteration 114: 0.112024\n",
      "Loss after iteration 115: 0.105157\n",
      "Loss after iteration 116: 0.098292\n",
      "Loss after iteration 117: 0.091471\n",
      "Loss after iteration 118: 0.084740\n",
      "Loss after iteration 119: 0.078142\n",
      "Loss after iteration 120: 0.071718\n",
      "Loss after iteration 121: 0.065509\n",
      "Loss after iteration 122: 0.059550\n",
      "Loss after iteration 123: 0.053872\n",
      "Loss after iteration 124: 0.048501\n"
     ]
    },
    {
     "data": {
      "image/png": "[encoded data removed]",
      "text/plain": [
       "<matplotlib.figure.Figure at 0x112eb4fd0>"
      ]
     },
     "metadata": {},
     "output_type": "display_data"
    }
   ],
   "source": [
    "param = build_model(4, beta=0.1)"
   ]
  },
  {
   "cell_type": "markdown",
   "metadata": {},
   "source": [
    "## NN with momentum and 6 hidden units"
   ]
  },
  {
   "cell_type": "code",
   "execution_count": 15,
   "metadata": {},
   "outputs": [
    {
     "name": "stdout",
     "output_type": "stream",
     "text": [
      "Loss after iteration 1: 0.343001\n",
      "Loss after iteration 2: 0.282156\n",
      "Loss after iteration 3: 0.270128\n",
      "Loss after iteration 4: 0.265054\n",
      "Loss after iteration 5: 0.261631\n",
      "Loss after iteration 6: 0.259214\n",
      "Loss after iteration 7: 0.257406\n",
      "Loss after iteration 8: 0.255980\n",
      "Loss after iteration 9: 0.254800\n",
      "Loss after iteration 10: 0.253783\n",
      "Loss after iteration 11: 0.252875\n",
      "Loss after iteration 12: 0.252040\n",
      "Loss after iteration 13: 0.251254\n",
      "Loss after iteration 14: 0.250501\n",
      "Loss after iteration 15: 0.249766\n",
      "Loss after iteration 16: 0.249042\n",
      "Loss after iteration 17: 0.248322\n",
      "Loss after iteration 18: 0.247597\n",
      "Loss after iteration 19: 0.246865\n",
      "Loss after iteration 20: 0.246119\n",
      "Loss after iteration 21: 0.245355\n",
      "Loss after iteration 22: 0.244568\n",
      "Loss after iteration 23: 0.243755\n",
      "Loss after iteration 24: 0.242911\n",
      "Loss after iteration 25: 0.242031\n",
      "Loss after iteration 26: 0.241110\n",
      "Loss after iteration 27: 0.240143\n",
      "Loss after iteration 28: 0.239126\n",
      "Loss after iteration 29: 0.238052\n",
      "Loss after iteration 30: 0.236915\n",
      "Loss after iteration 31: 0.235709\n",
      "Loss after iteration 32: 0.234427\n",
      "Loss after iteration 33: 0.233062\n",
      "Loss after iteration 34: 0.231606\n",
      "Loss after iteration 35: 0.230050\n",
      "Loss after iteration 36: 0.228386\n",
      "Loss after iteration 37: 0.226603\n",
      "Loss after iteration 38: 0.224692\n",
      "Loss after iteration 39: 0.222641\n",
      "Loss after iteration 40: 0.220439\n",
      "Loss after iteration 41: 0.218074\n",
      "Loss after iteration 42: 0.215533\n",
      "Loss after iteration 43: 0.212803\n",
      "Loss after iteration 44: 0.209869\n",
      "Loss after iteration 45: 0.206719\n",
      "Loss after iteration 46: 0.203336\n",
      "Loss after iteration 47: 0.199708\n",
      "Loss after iteration 48: 0.195821\n",
      "Loss after iteration 49: 0.191661\n",
      "Loss after iteration 50: 0.187216\n",
      "Loss after iteration 51: 0.182477\n",
      "Loss after iteration 52: 0.177434\n",
      "Loss after iteration 53: 0.172084\n",
      "Loss after iteration 54: 0.166424\n",
      "Loss after iteration 55: 0.160456\n",
      "Loss after iteration 56: 0.154190\n",
      "Loss after iteration 57: 0.147637\n",
      "Loss after iteration 58: 0.140819\n",
      "Loss after iteration 59: 0.133760\n",
      "Loss after iteration 60: 0.126496\n",
      "Loss after iteration 61: 0.119065\n",
      "Loss after iteration 62: 0.111517\n",
      "Loss after iteration 63: 0.103902\n",
      "Loss after iteration 64: 0.096280\n",
      "Loss after iteration 65: 0.088712\n",
      "Loss after iteration 66: 0.081258\n",
      "Loss after iteration 67: 0.073983\n",
      "Loss after iteration 68: 0.066944\n",
      "Loss after iteration 69: 0.060197\n",
      "Loss after iteration 70: 0.053790\n",
      "Loss after iteration 71: 0.047762\n"
     ]
    },
    {
     "data": {
      "image/png": "[encoded data removed]",
      "text/plain": [
       "<matplotlib.figure.Figure at 0x112f69e10>"
      ]
     },
     "metadata": {},
     "output_type": "display_data"
    }
   ],
   "source": [
    "param = build_model(6, beta=0.1)"
   ]
  },
  {
   "cell_type": "code",
   "execution_count": null,
   "metadata": {
    "collapsed": true
   },
   "outputs": [],
   "source": []
  }
 ],
 "metadata": {
  "kernelspec": {
   "display_name": "Python 3",
   "language": "python",
   "name": "python3"
  },
  "language_info": {
   "codemirror_mode": {
    "name": "ipython",
    "version": 3
   },
   "file_extension": ".py",
   "mimetype": "text/x-python",
   "name": "python",
   "nbconvert_exporter": "python",
   "pygments_lexer": "ipython3",
   "version": "3.6.3"
  }
 },
 "nbformat": 4,
 "nbformat_minor": 2
}
